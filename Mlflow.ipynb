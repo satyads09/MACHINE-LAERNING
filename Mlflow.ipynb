{
  "nbformat": 4,
  "nbformat_minor": 0,
  "metadata": {
    "colab": {
      "provenance": []
    },
    "kernelspec": {
      "name": "python3",
      "display_name": "Python 3"
    },
    "language_info": {
      "name": "python"
    }
  },
  "cells": [
    {
      "cell_type": "code",
      "execution_count": null,
      "metadata": {
        "id": "83FTSfsk_wK8"
      },
      "outputs": [],
      "source": []
    },
    {
      "cell_type": "markdown",
      "source": [
        "<img src=\"data:image/png;base64,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\" data-deferred=\"1\" class=\"rg_i Q4LuWd\" jsname=\"Q4LuWd\" width=\"326\" height=\"156\" alt=\"End-to-End MLOps Architecture and Workflow - Analytics Vidhya\" data-iml=\"989.1999999880791\" data-atf=\"false\">"
      ],
      "metadata": {
        "id": "qc0g9shz_9No"
      }
    },
    {
      "cell_type": "markdown",
      "source": [
        "$Step-1$\n",
        "\n",
        "**Import Required packages**"
      ],
      "metadata": {
        "id": "k4IYliEOACOe"
      }
    },
    {
      "cell_type": "code",
      "source": [
        "!pip install mlflow"
      ],
      "metadata": {
        "colab": {
          "base_uri": "https://localhost:8080/"
        },
        "id": "3713z0zr_-bV",
        "outputId": "2a18199c-26b2-47e9-83f1-768158bf52c0"
      },
      "execution_count": null,
      "outputs": [
        {
          "output_type": "stream",
          "name": "stdout",
          "text": [
            "Collecting mlflow\n",
            "  Downloading mlflow-2.14.1-py3-none-any.whl (25.8 MB)\n",
            "\u001b[2K     \u001b[90m━━━━━━━━━━━━━━━━━━━━━━━━━━━━━━━━━━━━━━━━\u001b[0m \u001b[32m25.8/25.8 MB\u001b[0m \u001b[31m17.3 MB/s\u001b[0m eta \u001b[36m0:00:00\u001b[0m\n",
            "\u001b[?25hRequirement already satisfied: Flask<4 in /usr/local/lib/python3.10/dist-packages (from mlflow) (2.2.5)\n",
            "Collecting alembic!=1.10.0,<2 (from mlflow)\n",
            "  Downloading alembic-1.13.2-py3-none-any.whl (232 kB)\n",
            "\u001b[2K     \u001b[90m━━━━━━━━━━━━━━━━━━━━━━━━━━━━━━━━━━━━━━━━\u001b[0m \u001b[32m233.0/233.0 kB\u001b[0m \u001b[31m12.0 MB/s\u001b[0m eta \u001b[36m0:00:00\u001b[0m\n",
            "\u001b[?25hRequirement already satisfied: cachetools<6,>=5.0.0 in /usr/local/lib/python3.10/dist-packages (from mlflow) (5.3.3)\n",
            "Requirement already satisfied: click<9,>=7.0 in /usr/local/lib/python3.10/dist-packages (from mlflow) (8.1.7)\n",
            "Requirement already satisfied: cloudpickle<4 in /usr/local/lib/python3.10/dist-packages (from mlflow) (2.2.1)\n",
            "Collecting docker<8,>=4.0.0 (from mlflow)\n",
            "  Downloading docker-7.1.0-py3-none-any.whl (147 kB)\n",
            "\u001b[2K     \u001b[90m━━━━━━━━━━━━━━━━━━━━━━━━━━━━━━━━━━━━━━━━\u001b[0m \u001b[32m147.8/147.8 kB\u001b[0m \u001b[31m8.8 MB/s\u001b[0m eta \u001b[36m0:00:00\u001b[0m\n",
            "\u001b[?25hRequirement already satisfied: entrypoints<1 in /usr/local/lib/python3.10/dist-packages (from mlflow) (0.4)\n",
            "Collecting gitpython<4,>=3.1.9 (from mlflow)\n",
            "  Downloading GitPython-3.1.43-py3-none-any.whl (207 kB)\n",
            "\u001b[2K     \u001b[90m━━━━━━━━━━━━━━━━━━━━━━━━━━━━━━━━━━━━━━━━\u001b[0m \u001b[32m207.3/207.3 kB\u001b[0m \u001b[31m4.0 MB/s\u001b[0m eta \u001b[36m0:00:00\u001b[0m\n",
            "\u001b[?25hCollecting graphene<4 (from mlflow)\n",
            "  Downloading graphene-3.3-py2.py3-none-any.whl (128 kB)\n",
            "\u001b[2K     \u001b[90m━━━━━━━━━━━━━━━━━━━━━━━━━━━━━━━━━━━━━━━━\u001b[0m \u001b[32m128.2/128.2 kB\u001b[0m \u001b[31m7.5 MB/s\u001b[0m eta \u001b[36m0:00:00\u001b[0m\n",
            "\u001b[?25hRequirement already satisfied: importlib-metadata!=4.7.0,<8,>=3.7.0 in /usr/local/lib/python3.10/dist-packages (from mlflow) (7.2.0)\n",
            "Requirement already satisfied: markdown<4,>=3.3 in /usr/local/lib/python3.10/dist-packages (from mlflow) (3.6)\n",
            "Requirement already satisfied: matplotlib<4 in /usr/local/lib/python3.10/dist-packages (from mlflow) (3.7.1)\n",
            "Requirement already satisfied: numpy<2 in /usr/local/lib/python3.10/dist-packages (from mlflow) (1.25.2)\n",
            "Collecting opentelemetry-api<3,>=1.9.0 (from mlflow)\n",
            "  Downloading opentelemetry_api-1.25.0-py3-none-any.whl (59 kB)\n",
            "\u001b[2K     \u001b[90m━━━━━━━━━━━━━━━━━━━━━━━━━━━━━━━━━━━━━━━━\u001b[0m \u001b[32m59.9/59.9 kB\u001b[0m \u001b[31m4.2 MB/s\u001b[0m eta \u001b[36m0:00:00\u001b[0m\n",
            "\u001b[?25hCollecting opentelemetry-sdk<3,>=1.9.0 (from mlflow)\n",
            "  Downloading opentelemetry_sdk-1.25.0-py3-none-any.whl (107 kB)\n",
            "\u001b[2K     \u001b[90m━━━━━━━━━━━━━━━━━━━━━━━━━━━━━━━━━━━━━━━━\u001b[0m \u001b[32m107.0/107.0 kB\u001b[0m \u001b[31m7.5 MB/s\u001b[0m eta \u001b[36m0:00:00\u001b[0m\n",
            "\u001b[?25hRequirement already satisfied: packaging<25 in /usr/local/lib/python3.10/dist-packages (from mlflow) (24.1)\n",
            "Requirement already satisfied: pandas<3 in /usr/local/lib/python3.10/dist-packages (from mlflow) (2.0.3)\n",
            "Requirement already satisfied: protobuf<5,>=3.12.0 in /usr/local/lib/python3.10/dist-packages (from mlflow) (3.20.3)\n",
            "Requirement already satisfied: pyarrow<16,>=4.0.0 in /usr/local/lib/python3.10/dist-packages (from mlflow) (14.0.2)\n",
            "Requirement already satisfied: pytz<2025 in /usr/local/lib/python3.10/dist-packages (from mlflow) (2023.4)\n",
            "Requirement already satisfied: pyyaml<7,>=5.1 in /usr/local/lib/python3.10/dist-packages (from mlflow) (6.0.1)\n",
            "Collecting querystring-parser<2 (from mlflow)\n",
            "  Downloading querystring_parser-1.2.4-py2.py3-none-any.whl (7.9 kB)\n",
            "Requirement already satisfied: requests<3,>=2.17.3 in /usr/local/lib/python3.10/dist-packages (from mlflow) (2.31.0)\n",
            "Requirement already satisfied: scikit-learn<2 in /usr/local/lib/python3.10/dist-packages (from mlflow) (1.2.2)\n",
            "Requirement already satisfied: scipy<2 in /usr/local/lib/python3.10/dist-packages (from mlflow) (1.11.4)\n",
            "Requirement already satisfied: sqlalchemy<3,>=1.4.0 in /usr/local/lib/python3.10/dist-packages (from mlflow) (2.0.31)\n",
            "Requirement already satisfied: sqlparse<1,>=0.4.0 in /usr/local/lib/python3.10/dist-packages (from mlflow) (0.5.0)\n",
            "Requirement already satisfied: Jinja2<4,>=2.11 in /usr/local/lib/python3.10/dist-packages (from mlflow) (3.1.4)\n",
            "Collecting gunicorn<23 (from mlflow)\n",
            "  Downloading gunicorn-22.0.0-py3-none-any.whl (84 kB)\n",
            "\u001b[2K     \u001b[90m━━━━━━━━━━━━━━━━━━━━━━━━━━━━━━━━━━━━━━━━\u001b[0m \u001b[32m84.4/84.4 kB\u001b[0m \u001b[31m3.9 MB/s\u001b[0m eta \u001b[36m0:00:00\u001b[0m\n",
            "\u001b[?25hCollecting Mako (from alembic!=1.10.0,<2->mlflow)\n",
            "  Downloading Mako-1.3.5-py3-none-any.whl (78 kB)\n",
            "\u001b[2K     \u001b[90m━━━━━━━━━━━━━━━━━━━━━━━━━━━━━━━━━━━━━━━━\u001b[0m \u001b[32m78.6/78.6 kB\u001b[0m \u001b[31m6.4 MB/s\u001b[0m eta \u001b[36m0:00:00\u001b[0m\n",
            "\u001b[?25hRequirement already satisfied: typing-extensions>=4 in /usr/local/lib/python3.10/dist-packages (from alembic!=1.10.0,<2->mlflow) (4.12.2)\n",
            "Requirement already satisfied: urllib3>=1.26.0 in /usr/local/lib/python3.10/dist-packages (from docker<8,>=4.0.0->mlflow) (2.0.7)\n",
            "Requirement already satisfied: Werkzeug>=2.2.2 in /usr/local/lib/python3.10/dist-packages (from Flask<4->mlflow) (3.0.3)\n",
            "Requirement already satisfied: itsdangerous>=2.0 in /usr/local/lib/python3.10/dist-packages (from Flask<4->mlflow) (2.2.0)\n",
            "Collecting gitdb<5,>=4.0.1 (from gitpython<4,>=3.1.9->mlflow)\n",
            "  Downloading gitdb-4.0.11-py3-none-any.whl (62 kB)\n",
            "\u001b[2K     \u001b[90m━━━━━━━━━━━━━━━━━━━━━━━━━━━━━━━━━━━━━━━━\u001b[0m \u001b[32m62.7/62.7 kB\u001b[0m \u001b[31m3.2 MB/s\u001b[0m eta \u001b[36m0:00:00\u001b[0m\n",
            "\u001b[?25hCollecting graphql-core<3.3,>=3.1 (from graphene<4->mlflow)\n",
            "  Downloading graphql_core-3.2.3-py3-none-any.whl (202 kB)\n",
            "\u001b[2K     \u001b[90m━━━━━━━━━━━━━━━━━━━━━━━━━━━━━━━━━━━━━━━━\u001b[0m \u001b[32m202.9/202.9 kB\u001b[0m \u001b[31m12.4 MB/s\u001b[0m eta \u001b[36m0:00:00\u001b[0m\n",
            "\u001b[?25hCollecting graphql-relay<3.3,>=3.1 (from graphene<4->mlflow)\n",
            "  Downloading graphql_relay-3.2.0-py3-none-any.whl (16 kB)\n",
            "Collecting aniso8601<10,>=8 (from graphene<4->mlflow)\n",
            "  Downloading aniso8601-9.0.1-py2.py3-none-any.whl (52 kB)\n",
            "\u001b[2K     \u001b[90m━━━━━━━━━━━━━━━━━━━━━━━━━━━━━━━━━━━━━━━━\u001b[0m \u001b[32m52.8/52.8 kB\u001b[0m \u001b[31m2.5 MB/s\u001b[0m eta \u001b[36m0:00:00\u001b[0m\n",
            "\u001b[?25hRequirement already satisfied: zipp>=0.5 in /usr/local/lib/python3.10/dist-packages (from importlib-metadata!=4.7.0,<8,>=3.7.0->mlflow) (3.19.2)\n",
            "Requirement already satisfied: MarkupSafe>=2.0 in /usr/local/lib/python3.10/dist-packages (from Jinja2<4,>=2.11->mlflow) (2.1.5)\n",
            "Requirement already satisfied: contourpy>=1.0.1 in /usr/local/lib/python3.10/dist-packages (from matplotlib<4->mlflow) (1.2.1)\n",
            "Requirement already satisfied: cycler>=0.10 in /usr/local/lib/python3.10/dist-packages (from matplotlib<4->mlflow) (0.12.1)\n",
            "Requirement already satisfied: fonttools>=4.22.0 in /usr/local/lib/python3.10/dist-packages (from matplotlib<4->mlflow) (4.53.0)\n",
            "Requirement already satisfied: kiwisolver>=1.0.1 in /usr/local/lib/python3.10/dist-packages (from matplotlib<4->mlflow) (1.4.5)\n",
            "Requirement already satisfied: pillow>=6.2.0 in /usr/local/lib/python3.10/dist-packages (from matplotlib<4->mlflow) (9.4.0)\n",
            "Requirement already satisfied: pyparsing>=2.3.1 in /usr/local/lib/python3.10/dist-packages (from matplotlib<4->mlflow) (3.1.2)\n",
            "Requirement already satisfied: python-dateutil>=2.7 in /usr/local/lib/python3.10/dist-packages (from matplotlib<4->mlflow) (2.8.2)\n",
            "Collecting deprecated>=1.2.6 (from opentelemetry-api<3,>=1.9.0->mlflow)\n",
            "  Downloading Deprecated-1.2.14-py2.py3-none-any.whl (9.6 kB)\n",
            "Collecting importlib-metadata!=4.7.0,<8,>=3.7.0 (from mlflow)\n",
            "  Downloading importlib_metadata-7.1.0-py3-none-any.whl (24 kB)\n",
            "Collecting opentelemetry-semantic-conventions==0.46b0 (from opentelemetry-sdk<3,>=1.9.0->mlflow)\n",
            "  Downloading opentelemetry_semantic_conventions-0.46b0-py3-none-any.whl (130 kB)\n",
            "\u001b[2K     \u001b[90m━━━━━━━━━━━━━━━━━━━━━━━━━━━━━━━━━━━━━━━━\u001b[0m \u001b[32m130.5/130.5 kB\u001b[0m \u001b[31m6.3 MB/s\u001b[0m eta \u001b[36m0:00:00\u001b[0m\n",
            "\u001b[?25hRequirement already satisfied: tzdata>=2022.1 in /usr/local/lib/python3.10/dist-packages (from pandas<3->mlflow) (2024.1)\n",
            "Requirement already satisfied: six in /usr/local/lib/python3.10/dist-packages (from querystring-parser<2->mlflow) (1.16.0)\n",
            "Requirement already satisfied: charset-normalizer<4,>=2 in /usr/local/lib/python3.10/dist-packages (from requests<3,>=2.17.3->mlflow) (3.3.2)\n",
            "Requirement already satisfied: idna<4,>=2.5 in /usr/local/lib/python3.10/dist-packages (from requests<3,>=2.17.3->mlflow) (3.7)\n",
            "Requirement already satisfied: certifi>=2017.4.17 in /usr/local/lib/python3.10/dist-packages (from requests<3,>=2.17.3->mlflow) (2024.6.2)\n",
            "Requirement already satisfied: joblib>=1.1.1 in /usr/local/lib/python3.10/dist-packages (from scikit-learn<2->mlflow) (1.4.2)\n",
            "Requirement already satisfied: threadpoolctl>=2.0.0 in /usr/local/lib/python3.10/dist-packages (from scikit-learn<2->mlflow) (3.5.0)\n",
            "Requirement already satisfied: greenlet!=0.4.17 in /usr/local/lib/python3.10/dist-packages (from sqlalchemy<3,>=1.4.0->mlflow) (3.0.3)\n",
            "Requirement already satisfied: wrapt<2,>=1.10 in /usr/local/lib/python3.10/dist-packages (from deprecated>=1.2.6->opentelemetry-api<3,>=1.9.0->mlflow) (1.14.1)\n",
            "Collecting smmap<6,>=3.0.1 (from gitdb<5,>=4.0.1->gitpython<4,>=3.1.9->mlflow)\n",
            "  Downloading smmap-5.0.1-py3-none-any.whl (24 kB)\n",
            "Installing collected packages: aniso8601, smmap, querystring-parser, Mako, importlib-metadata, gunicorn, graphql-core, deprecated, opentelemetry-api, graphql-relay, gitdb, docker, alembic, opentelemetry-semantic-conventions, graphene, gitpython, opentelemetry-sdk, mlflow\n",
            "  Attempting uninstall: importlib-metadata\n",
            "    Found existing installation: importlib_metadata 7.2.0\n",
            "    Uninstalling importlib_metadata-7.2.0:\n",
            "      Successfully uninstalled importlib_metadata-7.2.0\n",
            "Successfully installed Mako-1.3.5 alembic-1.13.2 aniso8601-9.0.1 deprecated-1.2.14 docker-7.1.0 gitdb-4.0.11 gitpython-3.1.43 graphene-3.3 graphql-core-3.2.3 graphql-relay-3.2.0 gunicorn-22.0.0 importlib-metadata-7.1.0 mlflow-2.14.1 opentelemetry-api-1.25.0 opentelemetry-sdk-1.25.0 opentelemetry-semantic-conventions-0.46b0 querystring-parser-1.2.4 smmap-5.0.1\n"
          ]
        }
      ]
    },
    {
      "cell_type": "markdown",
      "source": [
        "$Step-2$\n",
        "\n",
        "**Import required packages**\n",
        "\n",
        "- Here will apply a regression analysis\n",
        "\n",
        "- Model name: ElasticNet regression\n",
        "\n",
        "1) Read the data\n",
        "\n",
        "2) Perform the EDA(exploratory data analysis)\n",
        "\n",
        "3) Divide data into train and test\n",
        "\n",
        "4) Develop the model\n",
        "\n",
        "5) get the performance metrics\n",
        "\n",
        "6) Tune the model if performance is not good (hyper parameter tuning)\n",
        "\n",
        "7) How to save all these artifacts (mlflow)"
      ],
      "metadata": {
        "id": "It8HiKKeAh69"
      }
    },
    {
      "cell_type": "code",
      "source": [
        "import numpy as np  # numerical analysis\n",
        "import pandas as pd # Data frame analysis\n",
        "from sklearn.linear_model import ElasticNet  # Regression model name\n",
        "from sklearn.model_selection import train_test_split\n",
        "from sklearn.metrics import mean_absolute_error,mean_squared_error,r2_score\n",
        "import mlflow\n",
        "import mlflow.sklearn"
      ],
      "metadata": {
        "id": "1nKv9WWBAOdj"
      },
      "execution_count": null,
      "outputs": []
    },
    {
      "cell_type": "markdown",
      "source": [
        "$Step-3$\n",
        "\n",
        "**Read the data**"
      ],
      "metadata": {
        "id": "7qNs8nrWCF9y"
      }
    },
    {
      "cell_type": "code",
      "source": [
        "data=pd.read_csv('/content/winequality_red.csv')\n",
        "data.head()"
      ],
      "metadata": {
        "colab": {
          "base_uri": "https://localhost:8080/",
          "height": 223
        },
        "id": "tGK6XjyDCAQ3",
        "outputId": "fe8ae27e-f808-4471-b404-533c68a0ce57"
      },
      "execution_count": null,
      "outputs": [
        {
          "output_type": "execute_result",
          "data": {
            "text/plain": [
              "   fixed acidity  volatile acidity  citric acid  residual sugar  chlorides  \\\n",
              "0            7.4              0.70         0.00             1.9      0.076   \n",
              "1            7.8              0.88         0.00             2.6      0.098   \n",
              "2            7.8              0.76         0.04             2.3      0.092   \n",
              "3           11.2              0.28         0.56             1.9      0.075   \n",
              "4            7.4              0.70         0.00             1.9      0.076   \n",
              "\n",
              "   free sulfur dioxide  total sulfur dioxide  density    pH  sulphates  \\\n",
              "0                 11.0                  34.0   0.9978  3.51       0.56   \n",
              "1                 25.0                  67.0   0.9968  3.20       0.68   \n",
              "2                 15.0                  54.0   0.9970  3.26       0.65   \n",
              "3                 17.0                  60.0   0.9980  3.16       0.58   \n",
              "4                 11.0                  34.0   0.9978  3.51       0.56   \n",
              "\n",
              "   alcohol  quality  \n",
              "0      9.4        5  \n",
              "1      9.8        5  \n",
              "2      9.8        5  \n",
              "3      9.8        6  \n",
              "4      9.4        5  "
            ],
            "text/html": [
              "\n",
              "  <div id=\"df-f7caa62a-147f-4428-857f-805fa49d5cd2\" class=\"colab-df-container\">\n",
              "    <div>\n",
              "<style scoped>\n",
              "    .dataframe tbody tr th:only-of-type {\n",
              "        vertical-align: middle;\n",
              "    }\n",
              "\n",
              "    .dataframe tbody tr th {\n",
              "        vertical-align: top;\n",
              "    }\n",
              "\n",
              "    .dataframe thead th {\n",
              "        text-align: right;\n",
              "    }\n",
              "</style>\n",
              "<table border=\"1\" class=\"dataframe\">\n",
              "  <thead>\n",
              "    <tr style=\"text-align: right;\">\n",
              "      <th></th>\n",
              "      <th>fixed acidity</th>\n",
              "      <th>volatile acidity</th>\n",
              "      <th>citric acid</th>\n",
              "      <th>residual sugar</th>\n",
              "      <th>chlorides</th>\n",
              "      <th>free sulfur dioxide</th>\n",
              "      <th>total sulfur dioxide</th>\n",
              "      <th>density</th>\n",
              "      <th>pH</th>\n",
              "      <th>sulphates</th>\n",
              "      <th>alcohol</th>\n",
              "      <th>quality</th>\n",
              "    </tr>\n",
              "  </thead>\n",
              "  <tbody>\n",
              "    <tr>\n",
              "      <th>0</th>\n",
              "      <td>7.4</td>\n",
              "      <td>0.70</td>\n",
              "      <td>0.00</td>\n",
              "      <td>1.9</td>\n",
              "      <td>0.076</td>\n",
              "      <td>11.0</td>\n",
              "      <td>34.0</td>\n",
              "      <td>0.9978</td>\n",
              "      <td>3.51</td>\n",
              "      <td>0.56</td>\n",
              "      <td>9.4</td>\n",
              "      <td>5</td>\n",
              "    </tr>\n",
              "    <tr>\n",
              "      <th>1</th>\n",
              "      <td>7.8</td>\n",
              "      <td>0.88</td>\n",
              "      <td>0.00</td>\n",
              "      <td>2.6</td>\n",
              "      <td>0.098</td>\n",
              "      <td>25.0</td>\n",
              "      <td>67.0</td>\n",
              "      <td>0.9968</td>\n",
              "      <td>3.20</td>\n",
              "      <td>0.68</td>\n",
              "      <td>9.8</td>\n",
              "      <td>5</td>\n",
              "    </tr>\n",
              "    <tr>\n",
              "      <th>2</th>\n",
              "      <td>7.8</td>\n",
              "      <td>0.76</td>\n",
              "      <td>0.04</td>\n",
              "      <td>2.3</td>\n",
              "      <td>0.092</td>\n",
              "      <td>15.0</td>\n",
              "      <td>54.0</td>\n",
              "      <td>0.9970</td>\n",
              "      <td>3.26</td>\n",
              "      <td>0.65</td>\n",
              "      <td>9.8</td>\n",
              "      <td>5</td>\n",
              "    </tr>\n",
              "    <tr>\n",
              "      <th>3</th>\n",
              "      <td>11.2</td>\n",
              "      <td>0.28</td>\n",
              "      <td>0.56</td>\n",
              "      <td>1.9</td>\n",
              "      <td>0.075</td>\n",
              "      <td>17.0</td>\n",
              "      <td>60.0</td>\n",
              "      <td>0.9980</td>\n",
              "      <td>3.16</td>\n",
              "      <td>0.58</td>\n",
              "      <td>9.8</td>\n",
              "      <td>6</td>\n",
              "    </tr>\n",
              "    <tr>\n",
              "      <th>4</th>\n",
              "      <td>7.4</td>\n",
              "      <td>0.70</td>\n",
              "      <td>0.00</td>\n",
              "      <td>1.9</td>\n",
              "      <td>0.076</td>\n",
              "      <td>11.0</td>\n",
              "      <td>34.0</td>\n",
              "      <td>0.9978</td>\n",
              "      <td>3.51</td>\n",
              "      <td>0.56</td>\n",
              "      <td>9.4</td>\n",
              "      <td>5</td>\n",
              "    </tr>\n",
              "  </tbody>\n",
              "</table>\n",
              "</div>\n",
              "    <div class=\"colab-df-buttons\">\n",
              "\n",
              "  <div class=\"colab-df-container\">\n",
              "    <button class=\"colab-df-convert\" onclick=\"convertToInteractive('df-f7caa62a-147f-4428-857f-805fa49d5cd2')\"\n",
              "            title=\"Convert this dataframe to an interactive table.\"\n",
              "            style=\"display:none;\">\n",
              "\n",
              "  <svg xmlns=\"http://www.w3.org/2000/svg\" height=\"24px\" viewBox=\"0 -960 960 960\">\n",
              "    <path d=\"M120-120v-720h720v720H120Zm60-500h600v-160H180v160Zm220 220h160v-160H400v160Zm0 220h160v-160H400v160ZM180-400h160v-160H180v160Zm440 0h160v-160H620v160ZM180-180h160v-160H180v160Zm440 0h160v-160H620v160Z\"/>\n",
              "  </svg>\n",
              "    </button>\n",
              "\n",
              "  <style>\n",
              "    .colab-df-container {\n",
              "      display:flex;\n",
              "      gap: 12px;\n",
              "    }\n",
              "\n",
              "    .colab-df-convert {\n",
              "      background-color: #E8F0FE;\n",
              "      border: none;\n",
              "      border-radius: 50%;\n",
              "      cursor: pointer;\n",
              "      display: none;\n",
              "      fill: #1967D2;\n",
              "      height: 32px;\n",
              "      padding: 0 0 0 0;\n",
              "      width: 32px;\n",
              "    }\n",
              "\n",
              "    .colab-df-convert:hover {\n",
              "      background-color: #E2EBFA;\n",
              "      box-shadow: 0px 1px 2px rgba(60, 64, 67, 0.3), 0px 1px 3px 1px rgba(60, 64, 67, 0.15);\n",
              "      fill: #174EA6;\n",
              "    }\n",
              "\n",
              "    .colab-df-buttons div {\n",
              "      margin-bottom: 4px;\n",
              "    }\n",
              "\n",
              "    [theme=dark] .colab-df-convert {\n",
              "      background-color: #3B4455;\n",
              "      fill: #D2E3FC;\n",
              "    }\n",
              "\n",
              "    [theme=dark] .colab-df-convert:hover {\n",
              "      background-color: #434B5C;\n",
              "      box-shadow: 0px 1px 3px 1px rgba(0, 0, 0, 0.15);\n",
              "      filter: drop-shadow(0px 1px 2px rgba(0, 0, 0, 0.3));\n",
              "      fill: #FFFFFF;\n",
              "    }\n",
              "  </style>\n",
              "\n",
              "    <script>\n",
              "      const buttonEl =\n",
              "        document.querySelector('#df-f7caa62a-147f-4428-857f-805fa49d5cd2 button.colab-df-convert');\n",
              "      buttonEl.style.display =\n",
              "        google.colab.kernel.accessAllowed ? 'block' : 'none';\n",
              "\n",
              "      async function convertToInteractive(key) {\n",
              "        const element = document.querySelector('#df-f7caa62a-147f-4428-857f-805fa49d5cd2');\n",
              "        const dataTable =\n",
              "          await google.colab.kernel.invokeFunction('convertToInteractive',\n",
              "                                                    [key], {});\n",
              "        if (!dataTable) return;\n",
              "\n",
              "        const docLinkHtml = 'Like what you see? Visit the ' +\n",
              "          '<a target=\"_blank\" href=https://colab.research.google.com/notebooks/data_table.ipynb>data table notebook</a>'\n",
              "          + ' to learn more about interactive tables.';\n",
              "        element.innerHTML = '';\n",
              "        dataTable['output_type'] = 'display_data';\n",
              "        await google.colab.output.renderOutput(dataTable, element);\n",
              "        const docLink = document.createElement('div');\n",
              "        docLink.innerHTML = docLinkHtml;\n",
              "        element.appendChild(docLink);\n",
              "      }\n",
              "    </script>\n",
              "  </div>\n",
              "\n",
              "\n",
              "<div id=\"df-95491d3d-c9be-41bf-b61e-7197105aea2c\">\n",
              "  <button class=\"colab-df-quickchart\" onclick=\"quickchart('df-95491d3d-c9be-41bf-b61e-7197105aea2c')\"\n",
              "            title=\"Suggest charts\"\n",
              "            style=\"display:none;\">\n",
              "\n",
              "<svg xmlns=\"http://www.w3.org/2000/svg\" height=\"24px\"viewBox=\"0 0 24 24\"\n",
              "     width=\"24px\">\n",
              "    <g>\n",
              "        <path d=\"M19 3H5c-1.1 0-2 .9-2 2v14c0 1.1.9 2 2 2h14c1.1 0 2-.9 2-2V5c0-1.1-.9-2-2-2zM9 17H7v-7h2v7zm4 0h-2V7h2v10zm4 0h-2v-4h2v4z\"/>\n",
              "    </g>\n",
              "</svg>\n",
              "  </button>\n",
              "\n",
              "<style>\n",
              "  .colab-df-quickchart {\n",
              "      --bg-color: #E8F0FE;\n",
              "      --fill-color: #1967D2;\n",
              "      --hover-bg-color: #E2EBFA;\n",
              "      --hover-fill-color: #174EA6;\n",
              "      --disabled-fill-color: #AAA;\n",
              "      --disabled-bg-color: #DDD;\n",
              "  }\n",
              "\n",
              "  [theme=dark] .colab-df-quickchart {\n",
              "      --bg-color: #3B4455;\n",
              "      --fill-color: #D2E3FC;\n",
              "      --hover-bg-color: #434B5C;\n",
              "      --hover-fill-color: #FFFFFF;\n",
              "      --disabled-bg-color: #3B4455;\n",
              "      --disabled-fill-color: #666;\n",
              "  }\n",
              "\n",
              "  .colab-df-quickchart {\n",
              "    background-color: var(--bg-color);\n",
              "    border: none;\n",
              "    border-radius: 50%;\n",
              "    cursor: pointer;\n",
              "    display: none;\n",
              "    fill: var(--fill-color);\n",
              "    height: 32px;\n",
              "    padding: 0;\n",
              "    width: 32px;\n",
              "  }\n",
              "\n",
              "  .colab-df-quickchart:hover {\n",
              "    background-color: var(--hover-bg-color);\n",
              "    box-shadow: 0 1px 2px rgba(60, 64, 67, 0.3), 0 1px 3px 1px rgba(60, 64, 67, 0.15);\n",
              "    fill: var(--button-hover-fill-color);\n",
              "  }\n",
              "\n",
              "  .colab-df-quickchart-complete:disabled,\n",
              "  .colab-df-quickchart-complete:disabled:hover {\n",
              "    background-color: var(--disabled-bg-color);\n",
              "    fill: var(--disabled-fill-color);\n",
              "    box-shadow: none;\n",
              "  }\n",
              "\n",
              "  .colab-df-spinner {\n",
              "    border: 2px solid var(--fill-color);\n",
              "    border-color: transparent;\n",
              "    border-bottom-color: var(--fill-color);\n",
              "    animation:\n",
              "      spin 1s steps(1) infinite;\n",
              "  }\n",
              "\n",
              "  @keyframes spin {\n",
              "    0% {\n",
              "      border-color: transparent;\n",
              "      border-bottom-color: var(--fill-color);\n",
              "      border-left-color: var(--fill-color);\n",
              "    }\n",
              "    20% {\n",
              "      border-color: transparent;\n",
              "      border-left-color: var(--fill-color);\n",
              "      border-top-color: var(--fill-color);\n",
              "    }\n",
              "    30% {\n",
              "      border-color: transparent;\n",
              "      border-left-color: var(--fill-color);\n",
              "      border-top-color: var(--fill-color);\n",
              "      border-right-color: var(--fill-color);\n",
              "    }\n",
              "    40% {\n",
              "      border-color: transparent;\n",
              "      border-right-color: var(--fill-color);\n",
              "      border-top-color: var(--fill-color);\n",
              "    }\n",
              "    60% {\n",
              "      border-color: transparent;\n",
              "      border-right-color: var(--fill-color);\n",
              "    }\n",
              "    80% {\n",
              "      border-color: transparent;\n",
              "      border-right-color: var(--fill-color);\n",
              "      border-bottom-color: var(--fill-color);\n",
              "    }\n",
              "    90% {\n",
              "      border-color: transparent;\n",
              "      border-bottom-color: var(--fill-color);\n",
              "    }\n",
              "  }\n",
              "</style>\n",
              "\n",
              "  <script>\n",
              "    async function quickchart(key) {\n",
              "      const quickchartButtonEl =\n",
              "        document.querySelector('#' + key + ' button');\n",
              "      quickchartButtonEl.disabled = true;  // To prevent multiple clicks.\n",
              "      quickchartButtonEl.classList.add('colab-df-spinner');\n",
              "      try {\n",
              "        const charts = await google.colab.kernel.invokeFunction(\n",
              "            'suggestCharts', [key], {});\n",
              "      } catch (error) {\n",
              "        console.error('Error during call to suggestCharts:', error);\n",
              "      }\n",
              "      quickchartButtonEl.classList.remove('colab-df-spinner');\n",
              "      quickchartButtonEl.classList.add('colab-df-quickchart-complete');\n",
              "    }\n",
              "    (() => {\n",
              "      let quickchartButtonEl =\n",
              "        document.querySelector('#df-95491d3d-c9be-41bf-b61e-7197105aea2c button');\n",
              "      quickchartButtonEl.style.display =\n",
              "        google.colab.kernel.accessAllowed ? 'block' : 'none';\n",
              "    })();\n",
              "  </script>\n",
              "</div>\n",
              "\n",
              "    </div>\n",
              "  </div>\n"
            ],
            "application/vnd.google.colaboratory.intrinsic+json": {
              "type": "dataframe",
              "variable_name": "data",
              "summary": "{\n  \"name\": \"data\",\n  \"rows\": 1599,\n  \"fields\": [\n    {\n      \"column\": \"fixed acidity\",\n      \"properties\": {\n        \"dtype\": \"number\",\n        \"std\": 1.7410963181276953,\n        \"min\": 4.6,\n        \"max\": 15.9,\n        \"num_unique_values\": 96,\n        \"samples\": [\n          5.3,\n          12.7,\n          12.6\n        ],\n        \"semantic_type\": \"\",\n        \"description\": \"\"\n      }\n    },\n    {\n      \"column\": \"volatile acidity\",\n      \"properties\": {\n        \"dtype\": \"number\",\n        \"std\": 0.17905970415353537,\n        \"min\": 0.12,\n        \"max\": 1.58,\n        \"num_unique_values\": 143,\n        \"samples\": [\n          1.025,\n          0.4,\n          0.87\n        ],\n        \"semantic_type\": \"\",\n        \"description\": \"\"\n      }\n    },\n    {\n      \"column\": \"citric acid\",\n      \"properties\": {\n        \"dtype\": \"number\",\n        \"std\": 0.19480113740531857,\n        \"min\": 0.0,\n        \"max\": 1.0,\n        \"num_unique_values\": 80,\n        \"samples\": [\n          0.37,\n          0.0,\n          0.09\n        ],\n        \"semantic_type\": \"\",\n        \"description\": \"\"\n      }\n    },\n    {\n      \"column\": \"residual sugar\",\n      \"properties\": {\n        \"dtype\": \"number\",\n        \"std\": 1.4099280595072798,\n        \"min\": 0.9,\n        \"max\": 15.5,\n        \"num_unique_values\": 91,\n        \"samples\": [\n          11.0,\n          3.0,\n          15.5\n        ],\n        \"semantic_type\": \"\",\n        \"description\": \"\"\n      }\n    },\n    {\n      \"column\": \"chlorides\",\n      \"properties\": {\n        \"dtype\": \"number\",\n        \"std\": 0.0470653020100901,\n        \"min\": 0.012,\n        \"max\": 0.611,\n        \"num_unique_values\": 153,\n        \"samples\": [\n          0.096,\n          0.343,\n          0.159\n        ],\n        \"semantic_type\": \"\",\n        \"description\": \"\"\n      }\n    },\n    {\n      \"column\": \"free sulfur dioxide\",\n      \"properties\": {\n        \"dtype\": \"number\",\n        \"std\": 10.460156969809725,\n        \"min\": 1.0,\n        \"max\": 72.0,\n        \"num_unique_values\": 60,\n        \"samples\": [\n          11.0,\n          9.0,\n          32.0\n        ],\n        \"semantic_type\": \"\",\n        \"description\": \"\"\n      }\n    },\n    {\n      \"column\": \"total sulfur dioxide\",\n      \"properties\": {\n        \"dtype\": \"number\",\n        \"std\": 32.895324478299074,\n        \"min\": 6.0,\n        \"max\": 289.0,\n        \"num_unique_values\": 144,\n        \"samples\": [\n          68.0,\n          35.0,\n          101.0\n        ],\n        \"semantic_type\": \"\",\n        \"description\": \"\"\n      }\n    },\n    {\n      \"column\": \"density\",\n      \"properties\": {\n        \"dtype\": \"number\",\n        \"std\": 0.0018873339538425554,\n        \"min\": 0.99007,\n        \"max\": 1.00369,\n        \"num_unique_values\": 436,\n        \"samples\": [\n          0.99974,\n          1.0001,\n          0.99471\n        ],\n        \"semantic_type\": \"\",\n        \"description\": \"\"\n      }\n    },\n    {\n      \"column\": \"pH\",\n      \"properties\": {\n        \"dtype\": \"number\",\n        \"std\": 0.15438646490354277,\n        \"min\": 2.74,\n        \"max\": 4.01,\n        \"num_unique_values\": 89,\n        \"samples\": [\n          3.07,\n          3.0,\n          3.15\n        ],\n        \"semantic_type\": \"\",\n        \"description\": \"\"\n      }\n    },\n    {\n      \"column\": \"sulphates\",\n      \"properties\": {\n        \"dtype\": \"number\",\n        \"std\": 0.16950697959010996,\n        \"min\": 0.33,\n        \"max\": 2.0,\n        \"num_unique_values\": 96,\n        \"samples\": [\n          1.07,\n          1.04,\n          1.18\n        ],\n        \"semantic_type\": \"\",\n        \"description\": \"\"\n      }\n    },\n    {\n      \"column\": \"alcohol\",\n      \"properties\": {\n        \"dtype\": \"number\",\n        \"std\": 1.0656675818563988,\n        \"min\": 8.4,\n        \"max\": 14.9,\n        \"num_unique_values\": 65,\n        \"samples\": [\n          8.5,\n          9.95,\n          9.4\n        ],\n        \"semantic_type\": \"\",\n        \"description\": \"\"\n      }\n    },\n    {\n      \"column\": \"quality\",\n      \"properties\": {\n        \"dtype\": \"number\",\n        \"std\": 0,\n        \"min\": 3,\n        \"max\": 8,\n        \"num_unique_values\": 6,\n        \"samples\": [\n          5,\n          6,\n          3\n        ],\n        \"semantic_type\": \"\",\n        \"description\": \"\"\n      }\n    }\n  ]\n}"
            }
          },
          "metadata": {},
          "execution_count": 3
        }
      ]
    },
    {
      "cell_type": "code",
      "source": [
        "\n",
        "#data.dropna(inplace=True)\n",
        "#data.reset_index(drop=True,inplace=True)"
      ],
      "metadata": {
        "id": "ibEFmIoDwYdw"
      },
      "execution_count": null,
      "outputs": []
    },
    {
      "cell_type": "code",
      "source": [
        "# Quality is a target variable : data has numericals so we are applying a regression\n",
        "# other than quality column all other columns are consider as input data"
      ],
      "metadata": {
        "id": "ov5xMftGCS2O"
      },
      "execution_count": null,
      "outputs": []
    },
    {
      "cell_type": "code",
      "source": [
        "data.shape\n",
        "# 1599 rows\n",
        "# 12 columns"
      ],
      "metadata": {
        "colab": {
          "base_uri": "https://localhost:8080/"
        },
        "id": "RUzcXvWZCwPJ",
        "outputId": "46b12d9e-2cde-4545-cfd2-73c40fe26a43"
      },
      "execution_count": null,
      "outputs": [
        {
          "output_type": "execute_result",
          "data": {
            "text/plain": [
              "(1599, 12)"
            ]
          },
          "metadata": {},
          "execution_count": 5
        }
      ]
    },
    {
      "cell_type": "code",
      "source": [
        "data.columns"
      ],
      "metadata": {
        "colab": {
          "base_uri": "https://localhost:8080/"
        },
        "id": "m-O72MnmCxaM",
        "outputId": "7b95a4ef-076d-4ff7-887e-fc0cd41ed3a1"
      },
      "execution_count": null,
      "outputs": [
        {
          "output_type": "execute_result",
          "data": {
            "text/plain": [
              "Index(['fixed acidity', 'volatile acidity', 'citric acid', 'residual sugar',\n",
              "       'chlorides', 'free sulfur dioxide', 'total sulfur dioxide', 'density',\n",
              "       'pH', 'sulphates', 'alcohol', 'quality'],\n",
              "      dtype='object')"
            ]
          },
          "metadata": {},
          "execution_count": 6
        }
      ]
    },
    {
      "cell_type": "code",
      "source": [
        "data.info()"
      ],
      "metadata": {
        "colab": {
          "base_uri": "https://localhost:8080/"
        },
        "id": "AulxfZDEC35g",
        "outputId": "cfa3dd43-d13b-45a5-afc6-9d8fff08c114"
      },
      "execution_count": null,
      "outputs": [
        {
          "output_type": "stream",
          "name": "stdout",
          "text": [
            "<class 'pandas.core.frame.DataFrame'>\n",
            "RangeIndex: 1599 entries, 0 to 1598\n",
            "Data columns (total 12 columns):\n",
            " #   Column                Non-Null Count  Dtype  \n",
            "---  ------                --------------  -----  \n",
            " 0   fixed acidity         1599 non-null   float64\n",
            " 1   volatile acidity      1599 non-null   float64\n",
            " 2   citric acid           1599 non-null   float64\n",
            " 3   residual sugar        1599 non-null   float64\n",
            " 4   chlorides             1599 non-null   float64\n",
            " 5   free sulfur dioxide   1599 non-null   float64\n",
            " 6   total sulfur dioxide  1599 non-null   float64\n",
            " 7   density               1599 non-null   float64\n",
            " 8   pH                    1599 non-null   float64\n",
            " 9   sulphates             1599 non-null   float64\n",
            " 10  alcohol               1599 non-null   float64\n",
            " 11  quality               1599 non-null   int64  \n",
            "dtypes: float64(11), int64(1)\n",
            "memory usage: 150.0 KB\n"
          ]
        }
      ]
    },
    {
      "cell_type": "code",
      "source": [
        "data.isnull().sum()\n",
        "\n",
        "# There is no Null values in the data"
      ],
      "metadata": {
        "colab": {
          "base_uri": "https://localhost:8080/"
        },
        "id": "PUVyAC1ADBH4",
        "outputId": "6363c5b7-f1d1-49ee-9777-1268b8da8a5c"
      },
      "execution_count": null,
      "outputs": [
        {
          "output_type": "execute_result",
          "data": {
            "text/plain": [
              "fixed acidity           0\n",
              "volatile acidity        0\n",
              "citric acid             0\n",
              "residual sugar          0\n",
              "chlorides               0\n",
              "free sulfur dioxide     0\n",
              "total sulfur dioxide    0\n",
              "density                 0\n",
              "pH                      0\n",
              "sulphates               0\n",
              "alcohol                 0\n",
              "quality                 0\n",
              "dtype: int64"
            ]
          },
          "metadata": {},
          "execution_count": 8
        }
      ]
    },
    {
      "cell_type": "markdown",
      "source": [
        "$Step-4$\n",
        "\n",
        "**Model developement using MLflow**\n",
        "\n",
        "- We divide data into two parts **train_data**  and **test_data**\n",
        "\n",
        "- We divide train data into  **X_train** and **y_train**\n",
        "\n",
        "- we divide test data into  **X_test** and **y_test**\n",
        "\n",
        "- Model developent happens by **X_train** and **y_train**\n",
        "\n",
        "- Model predictions happens by pass **X_test**, which are called **y_predictions**\n",
        "\n",
        "- Finally we compare **y_predictions** with **y_test**"
      ],
      "metadata": {
        "id": "1Xv9xbZrDQsi"
      }
    },
    {
      "cell_type": "code",
      "source": [
        "# Mlflow is a cloud platform\n",
        "\n",
        "# If you want to deploy a ML model we need to create worksapce\n",
        "\n",
        "# this workspace is called experiment"
      ],
      "metadata": {
        "id": "22IdmBDTC6X9"
      },
      "execution_count": null,
      "outputs": []
    },
    {
      "cell_type": "code",
      "source": [
        "mlflow.set_experiment(\"mlflow/mlops_workspace\")\n",
        "# with this name the experiment is not there\n",
        "# so it will create a new one\n",
        "\n",
        "# If it is already existed\n",
        "# whatever the developments we are doing will go under corresponding exp name"
      ],
      "metadata": {
        "colab": {
          "base_uri": "https://localhost:8080/"
        },
        "id": "9KxboUr9EdIh",
        "outputId": "bed2080d-0d58-4a35-c577-a99912612939"
      },
      "execution_count": null,
      "outputs": [
        {
          "output_type": "stream",
          "name": "stderr",
          "text": [
            "2024/06/29 06:41:27 INFO mlflow.tracking.fluent: Experiment with name 'mlflow/mlops_workspace' does not exist. Creating a new experiment.\n"
          ]
        },
        {
          "output_type": "execute_result",
          "data": {
            "text/plain": [
              "<Experiment: artifact_location='file:///content/mlruns/935438471670373519', creation_time=1719643287820, experiment_id='935438471670373519', last_update_time=1719643287820, lifecycle_stage='active', name='mlflow/mlops_workspace', tags={}>"
            ]
          },
          "metadata": {},
          "execution_count": 4
        }
      ]
    },
    {
      "cell_type": "code",
      "source": [
        "print(mlflow.set_experiment(\"mlflow/mlops_workspace\").experiment_id)\n",
        "print(mlflow.set_experiment(\"mlflow/mlops_workspace\").name)\n",
        "print(mlflow.set_experiment(\"mlflow/mlops_workspace\").lifecycle_stage)"
      ],
      "metadata": {
        "colab": {
          "base_uri": "https://localhost:8080/"
        },
        "id": "wEIOGK-BE_7B",
        "outputId": "5d1f6c8e-8cab-4086-932d-e90121875f38"
      },
      "execution_count": null,
      "outputs": [
        {
          "output_type": "stream",
          "name": "stdout",
          "text": [
            "935438471670373519\n",
            "mlflow/mlops_workspace\n",
            "active\n"
          ]
        }
      ]
    },
    {
      "cell_type": "code",
      "source": [
        "def train_model(alpha_val,l1_ratio_val):\n",
        "    #============ train test split=================\n",
        "    train,test=train_test_split(data,test_size=0.3,random_state=1234)\n",
        "    train_x=train.drop(['quality'],axis=1) # x means only input data\n",
        "    train_y=train[['quality']]             # y mean target column\n",
        "\n",
        "    test_x= test.drop(['quality'],axis=1)\n",
        "    test_y= test[['quality']]\n",
        "\n",
        "    #============== Initiate the mlflow=======================\n",
        "    with mlflow.start_run(experiment_id=935438471670373519,\n",
        "                          run_name='Regression',\n",
        "                          description=\"performing a regression analysis\"):\n",
        "        lr=ElasticNet(alpha=alpha_val,\n",
        "                      l1_ratio=l1_ratio_val)\n",
        "        lr.fit(train_x,train_y)\n",
        "\n",
        "        #==============Model predictions=========================\n",
        "\n",
        "        predicted_data=lr.predict(test_x)\n",
        "\n",
        "        #=============Model evaluation==========================\n",
        "        rmse=np.sqrt(mean_squared_error(test_y,predicted_data))\n",
        "        mae=mean_absolute_error(test_y,predicted_data)\n",
        "        r2=r2_score(test_y,predicted_data)\n",
        "\n",
        "        #=============== log the artifacts(metrics/params/model)=======================\n",
        "        mlflow.log_param(\"alpha\",alpha_val)\n",
        "        mlflow.log_param(\"l1_ratio\",l1_ratio_val)\n",
        "\n",
        "        mlflow.log_metric(\"RMSE\",rmse)\n",
        "        mlflow.log_metric(\"MAE\",mae)\n",
        "        mlflow.log_metric(\"R2\",r2)\n",
        "\n",
        "        mlflow.sklearn.log_model(lr,\"model\",\n",
        "                                 registered_model_name=\"ElasticNet\")\n",
        "\n",
        "\n",
        "\n",
        "\n",
        "\n",
        "\n",
        "\n",
        "\n"
      ],
      "metadata": {
        "id": "OcXrYE-4FSzN"
      },
      "execution_count": null,
      "outputs": []
    },
    {
      "cell_type": "code",
      "source": [
        "train_model(0.5,0.6)  # the range is between 0 to 1"
      ],
      "metadata": {
        "colab": {
          "base_uri": "https://localhost:8080/"
        },
        "id": "a3t1W90UJyHv",
        "outputId": "f6ba2d05-5d3f-444e-bad6-f5a142261d70"
      },
      "execution_count": null,
      "outputs": [
        {
          "output_type": "stream",
          "name": "stderr",
          "text": [
            "Registered model 'ElasticNet' already exists. Creating a new version of this model...\n",
            "Created version '2' of model 'ElasticNet'.\n"
          ]
        }
      ]
    },
    {
      "cell_type": "code",
      "source": [
        "# If your model name is same\n",
        "# It will keep on create new versions with another RUN ID"
      ],
      "metadata": {
        "id": "gzUcZZhXJ9yI"
      },
      "execution_count": null,
      "outputs": []
    },
    {
      "cell_type": "markdown",
      "source": [
        "$Step-5$\n",
        "\n",
        "**MlflowUI**"
      ],
      "metadata": {
        "id": "nsEpQZmlMNt5"
      }
    },
    {
      "cell_type": "code",
      "source": [
        "!pip install pyngrok"
      ],
      "metadata": {
        "colab": {
          "base_uri": "https://localhost:8080/"
        },
        "id": "oX_Hnbu1MQfW",
        "outputId": "4e55993c-0047-4406-dc80-43029e5bb45d"
      },
      "execution_count": null,
      "outputs": [
        {
          "output_type": "stream",
          "name": "stdout",
          "text": [
            "Collecting pyngrok\n",
            "  Downloading pyngrok-7.1.6-py3-none-any.whl (22 kB)\n",
            "Requirement already satisfied: PyYAML>=5.1 in /usr/local/lib/python3.10/dist-packages (from pyngrok) (6.0.1)\n",
            "Installing collected packages: pyngrok\n",
            "Successfully installed pyngrok-7.1.6\n"
          ]
        }
      ]
    },
    {
      "cell_type": "code",
      "source": [
        "# create a tunnel\n",
        "from pyngrok import ngrok\n",
        "ngrok_tunnel=ngrok.connect(addr='5000',proto='http')\n",
        "print(\"Tracking uri:\",ngrok_tunnel.public_url)"
      ],
      "metadata": {
        "colab": {
          "base_uri": "https://localhost:8080/",
          "height": 446
        },
        "id": "q9DnVUVUMV1W",
        "outputId": "939d42de-5f04-41fd-87e6-69f0a0a8f94d"
      },
      "execution_count": null,
      "outputs": [
        {
          "output_type": "stream",
          "name": "stdout",
          "text": []
        },
        {
          "output_type": "stream",
          "name": "stderr",
          "text": [
            "ERROR:pyngrok.process.ngrok:t=2024-06-29T07:02:51+0000 lvl=eror msg=\"failed to reconnect session\" obj=tunnels.session err=\"authentication failed: Usage of ngrok requires a verified account and authtoken.\\n\\nSign up for an account: https://dashboard.ngrok.com/signup\\nInstall your authtoken: https://dashboard.ngrok.com/get-started/your-authtoken\\r\\n\\r\\nERR_NGROK_4018\\r\\n\"\n",
            "ERROR:pyngrok.process.ngrok:t=2024-06-29T07:02:51+0000 lvl=eror msg=\"session closing\" obj=tunnels.session err=\"authentication failed: Usage of ngrok requires a verified account and authtoken.\\n\\nSign up for an account: https://dashboard.ngrok.com/signup\\nInstall your authtoken: https://dashboard.ngrok.com/get-started/your-authtoken\\r\\n\\r\\nERR_NGROK_4018\\r\\n\"\n",
            "ERROR:pyngrok.process.ngrok:t=2024-06-29T07:02:51+0000 lvl=eror msg=\"terminating with error\" obj=app err=\"authentication failed: Usage of ngrok requires a verified account and authtoken.\\n\\nSign up for an account: https://dashboard.ngrok.com/signup\\nInstall your authtoken: https://dashboard.ngrok.com/get-started/your-authtoken\\r\\n\\r\\nERR_NGROK_4018\\r\\n\"\n"
          ]
        },
        {
          "output_type": "error",
          "ename": "PyngrokNgrokError",
          "evalue": "The ngrok process errored on start: authentication failed: Usage of ngrok requires a verified account and authtoken.\\n\\nSign up for an account: https://dashboard.ngrok.com/signup\\nInstall your authtoken: https://dashboard.ngrok.com/get-started/your-authtoken\\r\\n\\r\\nERR_NGROK_4018\\r\\n.",
          "traceback": [
            "\u001b[0;31m---------------------------------------------------------------------------\u001b[0m",
            "\u001b[0;31mPyngrokNgrokError\u001b[0m                         Traceback (most recent call last)",
            "\u001b[0;32m<ipython-input-10-e94aab2bab91>\u001b[0m in \u001b[0;36m<cell line: 3>\u001b[0;34m()\u001b[0m\n\u001b[1;32m      1\u001b[0m \u001b[0;31m# create a tunnel\u001b[0m\u001b[0;34m\u001b[0m\u001b[0;34m\u001b[0m\u001b[0m\n\u001b[1;32m      2\u001b[0m \u001b[0;32mfrom\u001b[0m \u001b[0mpyngrok\u001b[0m \u001b[0;32mimport\u001b[0m \u001b[0mngrok\u001b[0m\u001b[0;34m\u001b[0m\u001b[0;34m\u001b[0m\u001b[0m\n\u001b[0;32m----> 3\u001b[0;31m \u001b[0mngrok_tunnel\u001b[0m\u001b[0;34m=\u001b[0m\u001b[0mngrok\u001b[0m\u001b[0;34m.\u001b[0m\u001b[0mconnect\u001b[0m\u001b[0;34m(\u001b[0m\u001b[0maddr\u001b[0m\u001b[0;34m=\u001b[0m\u001b[0;34m'5000'\u001b[0m\u001b[0;34m,\u001b[0m\u001b[0mproto\u001b[0m\u001b[0;34m=\u001b[0m\u001b[0;34m'http'\u001b[0m\u001b[0;34m)\u001b[0m\u001b[0;34m\u001b[0m\u001b[0;34m\u001b[0m\u001b[0m\n\u001b[0m\u001b[1;32m      4\u001b[0m \u001b[0mprint\u001b[0m\u001b[0;34m(\u001b[0m\u001b[0;34m\"Tracking uri:\"\u001b[0m\u001b[0;34m,\u001b[0m\u001b[0mngrok_tunnel\u001b[0m\u001b[0;34m.\u001b[0m\u001b[0mpublic_url\u001b[0m\u001b[0;34m)\u001b[0m\u001b[0;34m\u001b[0m\u001b[0;34m\u001b[0m\u001b[0m\n",
            "\u001b[0;32m/usr/local/lib/python3.10/dist-packages/pyngrok/ngrok.py\u001b[0m in \u001b[0;36mconnect\u001b[0;34m(addr, proto, name, pyngrok_config, **options)\u001b[0m\n\u001b[1;32m    314\u001b[0m             \u001b[0moptions\u001b[0m\u001b[0;34m.\u001b[0m\u001b[0mpop\u001b[0m\u001b[0;34m(\u001b[0m\u001b[0;34m\"auth\"\u001b[0m\u001b[0;34m)\u001b[0m\u001b[0;34m\u001b[0m\u001b[0;34m\u001b[0m\u001b[0m\n\u001b[1;32m    315\u001b[0m \u001b[0;34m\u001b[0m\u001b[0m\n\u001b[0;32m--> 316\u001b[0;31m     \u001b[0mapi_url\u001b[0m \u001b[0;34m=\u001b[0m \u001b[0mget_ngrok_process\u001b[0m\u001b[0;34m(\u001b[0m\u001b[0mpyngrok_config\u001b[0m\u001b[0;34m)\u001b[0m\u001b[0;34m.\u001b[0m\u001b[0mapi_url\u001b[0m\u001b[0;34m\u001b[0m\u001b[0;34m\u001b[0m\u001b[0m\n\u001b[0m\u001b[1;32m    317\u001b[0m \u001b[0;34m\u001b[0m\u001b[0m\n\u001b[1;32m    318\u001b[0m     \u001b[0mlogger\u001b[0m\u001b[0;34m.\u001b[0m\u001b[0mdebug\u001b[0m\u001b[0;34m(\u001b[0m\u001b[0;34mf\"Creating tunnel with options: {options}\"\u001b[0m\u001b[0;34m)\u001b[0m\u001b[0;34m\u001b[0m\u001b[0;34m\u001b[0m\u001b[0m\n",
            "\u001b[0;32m/usr/local/lib/python3.10/dist-packages/pyngrok/ngrok.py\u001b[0m in \u001b[0;36mget_ngrok_process\u001b[0;34m(pyngrok_config)\u001b[0m\n\u001b[1;32m    154\u001b[0m     \u001b[0minstall_ngrok\u001b[0m\u001b[0;34m(\u001b[0m\u001b[0mpyngrok_config\u001b[0m\u001b[0;34m)\u001b[0m\u001b[0;34m\u001b[0m\u001b[0;34m\u001b[0m\u001b[0m\n\u001b[1;32m    155\u001b[0m \u001b[0;34m\u001b[0m\u001b[0m\n\u001b[0;32m--> 156\u001b[0;31m     \u001b[0;32mreturn\u001b[0m \u001b[0mprocess\u001b[0m\u001b[0;34m.\u001b[0m\u001b[0mget_process\u001b[0m\u001b[0;34m(\u001b[0m\u001b[0mpyngrok_config\u001b[0m\u001b[0;34m)\u001b[0m\u001b[0;34m\u001b[0m\u001b[0;34m\u001b[0m\u001b[0m\n\u001b[0m\u001b[1;32m    157\u001b[0m \u001b[0;34m\u001b[0m\u001b[0m\n\u001b[1;32m    158\u001b[0m \u001b[0;34m\u001b[0m\u001b[0m\n",
            "\u001b[0;32m/usr/local/lib/python3.10/dist-packages/pyngrok/process.py\u001b[0m in \u001b[0;36mget_process\u001b[0;34m(pyngrok_config)\u001b[0m\n\u001b[1;32m    233\u001b[0m         \u001b[0;32mreturn\u001b[0m \u001b[0m_current_processes\u001b[0m\u001b[0;34m[\u001b[0m\u001b[0mpyngrok_config\u001b[0m\u001b[0;34m.\u001b[0m\u001b[0mngrok_path\u001b[0m\u001b[0;34m]\u001b[0m\u001b[0;34m\u001b[0m\u001b[0;34m\u001b[0m\u001b[0m\n\u001b[1;32m    234\u001b[0m \u001b[0;34m\u001b[0m\u001b[0m\n\u001b[0;32m--> 235\u001b[0;31m     \u001b[0;32mreturn\u001b[0m \u001b[0m_start_process\u001b[0m\u001b[0;34m(\u001b[0m\u001b[0mpyngrok_config\u001b[0m\u001b[0;34m)\u001b[0m\u001b[0;34m\u001b[0m\u001b[0;34m\u001b[0m\u001b[0m\n\u001b[0m\u001b[1;32m    236\u001b[0m \u001b[0;34m\u001b[0m\u001b[0m\n\u001b[1;32m    237\u001b[0m \u001b[0;34m\u001b[0m\u001b[0m\n",
            "\u001b[0;32m/usr/local/lib/python3.10/dist-packages/pyngrok/process.py\u001b[0m in \u001b[0;36m_start_process\u001b[0;34m(pyngrok_config)\u001b[0m\n\u001b[1;32m    396\u001b[0m \u001b[0;34m\u001b[0m\u001b[0m\n\u001b[1;32m    397\u001b[0m         \u001b[0;32mif\u001b[0m \u001b[0mngrok_process\u001b[0m\u001b[0;34m.\u001b[0m\u001b[0mstartup_error\u001b[0m \u001b[0;32mis\u001b[0m \u001b[0;32mnot\u001b[0m \u001b[0;32mNone\u001b[0m\u001b[0;34m:\u001b[0m\u001b[0;34m\u001b[0m\u001b[0;34m\u001b[0m\u001b[0m\n\u001b[0;32m--> 398\u001b[0;31m             raise PyngrokNgrokError(f\"The ngrok process errored on start: {ngrok_process.startup_error}.\",\n\u001b[0m\u001b[1;32m    399\u001b[0m                                     \u001b[0mngrok_process\u001b[0m\u001b[0;34m.\u001b[0m\u001b[0mlogs\u001b[0m\u001b[0;34m,\u001b[0m\u001b[0;34m\u001b[0m\u001b[0;34m\u001b[0m\u001b[0m\n\u001b[1;32m    400\u001b[0m                                     ngrok_process.startup_error)\n",
            "\u001b[0;31mPyngrokNgrokError\u001b[0m: The ngrok process errored on start: authentication failed: Usage of ngrok requires a verified account and authtoken.\\n\\nSign up for an account: https://dashboard.ngrok.com/signup\\nInstall your authtoken: https://dashboard.ngrok.com/get-started/your-authtoken\\r\\n\\r\\nERR_NGROK_4018\\r\\n."
          ]
        }
      ]
    },
    {
      "cell_type": "markdown",
      "source": [
        "<div class=\"ant-col ant-col-sm-24 ant-col-lg-18 ant-col-xl-13\"><h1 class=\"ant-typography\" id=\"authtoken\">Your Authtoken</h1><p class=\"text-primary mb-4 break-words _rz65p6nhEbCQ5T8181l\">This is your personal Authtoken. Use this to authenticate the ngrok agent that you downloaded.</p><div class=\"ant-row\" style=\"margin-left: -4px; margin-right: -4px; row-gap: 0px;\"><div class=\"ant-col\" style=\"padding-left: 4px; padding-right: 4px; flex: 1 1 auto;\"><input class=\"ant-input\" readonly=\"\" type=\"text\" value=\"2KVWElPAg1tzrBVnxmFFYaxfeyg_2cCYD9fH3HpMqU1u5TEsC\"></div><div class=\"ant-col\" style=\"padding-left: 4px; padding-right: 4px;\"><button data-clipboard-text=\"2KVWElPAg1tzrBVnxmFFYaxfeyg_2cCYD9fH3HpMqU1u5TEsC\" type=\"button\" class=\"ant-btn ant-btn-primary\" ant-click-animating-without-extra-node=\"false\"><span role=\"img\" aria-label=\"copy\" class=\"anticon anticon-copy\"><svg viewBox=\"64 64 896 896\" focusable=\"false\" data-icon=\"copy\" width=\"1em\" height=\"1em\" fill=\"currentColor\" aria-hidden=\"true\"><path d=\"M832 64H296c-4.4 0-8 3.6-8 8v56c0 4.4 3.6 8 8 8h496v688c0 4.4 3.6 8 8 8h56c4.4 0 8-3.6 8-8V96c0-17.7-14.3-32-32-32zM704 192H192c-17.7 0-32 14.3-32 32v530.7c0 8.5 3.4 16.6 9.4 22.6l173.3 173.3c2.2 2.2 4.7 4 7.4 5.5v1.9h4.2c3.5 1.3 7.2 2 11 2H704c17.7 0 32-14.3 32-32V224c0-17.7-14.3-32-32-32zM382 896h-.2L232 746.2v-.2h150v150z\"></path></svg></span><span>Copy</span></button></div></div></div>"
      ],
      "metadata": {
        "id": "qtOFYHMpNQPB"
      }
    },
    {
      "cell_type": "code",
      "source": [
        "# Auth token is required\n",
        "# 2KVWElPAg1tzrBVnxmFFYaxfeyg_2cCYD9fH3HpMqU1u5TEsC\n",
        "\n",
        "\n",
        "from pyngrok import ngrok\n",
        "\n",
        "ngrok.kill() # kill the if any existed tunnels are there\n",
        "auth_token=\"2KVWElPAg1tzrBVnxmFFYaxfeyg_2cCYD9fH3HpMqU1u5TEsC\"\n",
        "ngrok.set_auth_token(auth_token)\n",
        "\n",
        "ngrok_tunnel=ngrok.connect(addr='5000',proto='http')\n",
        "print(\"Tracking uri:\",ngrok_tunnel.public_url)"
      ],
      "metadata": {
        "colab": {
          "base_uri": "https://localhost:8080/"
        },
        "id": "sypz-hJ1MxKX",
        "outputId": "f59d3acb-cbc5-403c-94ba-3cb4eb756062"
      },
      "execution_count": null,
      "outputs": [
        {
          "output_type": "stream",
          "name": "stdout",
          "text": [
            "Tracking uri: https://80ec-104-196-101-203.ngrok-free.app\n"
          ]
        }
      ]
    },
    {
      "cell_type": "code",
      "source": [
        "!mlflow ui"
      ],
      "metadata": {
        "colab": {
          "base_uri": "https://localhost:8080/"
        },
        "id": "neKirHyPNwHO",
        "outputId": "3ec333b4-7e94-4019-b00b-c89510ab3c2c"
      },
      "execution_count": null,
      "outputs": [
        {
          "output_type": "stream",
          "name": "stdout",
          "text": [
            "[2024-06-29 07:12:24 +0000] [9911] [INFO] Starting gunicorn 22.0.0\n",
            "[2024-06-29 07:12:24 +0000] [9911] [INFO] Listening at: http://127.0.0.1:5000 (9911)\n",
            "[2024-06-29 07:12:24 +0000] [9911] [INFO] Using worker: sync\n",
            "[2024-06-29 07:12:24 +0000] [9912] [INFO] Booting worker with pid: 9912\n",
            "[2024-06-29 07:12:24 +0000] [9913] [INFO] Booting worker with pid: 9913\n",
            "[2024-06-29 07:12:24 +0000] [9914] [INFO] Booting worker with pid: 9914\n",
            "[2024-06-29 07:12:24 +0000] [9915] [INFO] Booting worker with pid: 9915\n",
            "[2024-06-29 07:23:17 +0000] [9911] [INFO] Handling signal: int\n",
            "\n",
            "Aborted!\n",
            "[2024-06-29 07:23:17 +0000] [9912] [INFO] Worker exiting (pid: 9912)\n",
            "[2024-06-29 07:23:17 +0000] [9915] [INFO] Worker exiting (pid: 9915)\n",
            "[2024-06-29 07:23:17 +0000] [9914] [INFO] Worker exiting (pid: 9914)\n",
            "[2024-06-29 07:23:17 +0000] [9913] [INFO] Worker exiting (pid: 9913)\n",
            "[2024-06-29 07:23:18 +0000] [9911] [INFO] Shutting down: Master\n"
          ]
        }
      ]
    },
    {
      "cell_type": "code",
      "source": [
        "train,test=train_test_split(data,test_size=0.3,random_state=1234)\n",
        "train_x=train.drop(['quality'],axis=1) # x means only input data\n",
        "train_y=train[['quality']]             # y mean target column\n",
        "\n",
        "test_x= test.drop(['quality'],axis=1)\n",
        "test_y= test[['quality']]"
      ],
      "metadata": {
        "id": "38cynlQDPyC0"
      },
      "execution_count": null,
      "outputs": []
    },
    {
      "cell_type": "markdown",
      "source": [
        "- Copy the pandas predictions code from mlflow UI\n",
        "\n",
        "- It is there under regression under artifacts\n",
        "\n",
        "- Then change the data as test_x"
      ],
      "metadata": {
        "id": "lHXzuhUh5BKM"
      }
    },
    {
      "cell_type": "code",
      "source": [
        "import mlflow\n",
        "logged_model = 'runs:/152448a1368147d4b798e22975ad7ec7/model'\n",
        "\n",
        "# Load model as a PyFuncModel.\n",
        "loaded_model = mlflow.pyfunc.load_model(logged_model)\n",
        "\n",
        "# Predict on a Pandas DataFrame.\n",
        "import pandas as pd\n",
        "loaded_model.predict(pd.DataFrame(test_x))"
      ],
      "metadata": {
        "colab": {
          "base_uri": "https://localhost:8080/"
        },
        "id": "HCXx-cCS34tn",
        "outputId": "5680858b-b9ba-4510-bf7e-76813a3ca00a"
      },
      "execution_count": null,
      "outputs": [
        {
          "output_type": "execute_result",
          "data": {
            "text/plain": [
              "array([5.7350397 , 5.69391479, 5.66275688, 5.78102141, 5.81499836,\n",
              "       5.5898468 , 5.78768463, 5.81579119, 5.7171204 , 5.77880703,\n",
              "       5.3504325 , 5.53154074, 5.75040339, 5.71393757, 5.71409162,\n",
              "       5.51150692, 5.12901423, 5.6217534 , 5.64897881, 5.19646186,\n",
              "       5.11162383, 5.63915485, 5.54144197, 5.74144952, 5.7435199 ,\n",
              "       5.71547907, 5.6084159 , 5.2069246 , 5.56390947, 5.75482012,\n",
              "       5.29487972, 5.81928263, 5.37456338, 5.70673444, 5.5834149 ,\n",
              "       5.4395437 , 5.83148557, 5.54654115, 5.65100555, 5.85223544,\n",
              "       5.46890626, 5.78170433, 5.68862798, 5.63101587, 5.43666901,\n",
              "       5.3796736 , 5.08944237, 5.81563715, 5.41369423, 5.53495489,\n",
              "       5.42259389, 5.76019476, 5.82377612, 5.72908099, 5.728101  ,\n",
              "       5.70982944, 5.84642023, 5.70231821, 5.77834489, 5.65923281,\n",
              "       5.73492931, 5.1962305 , 5.30043048, 5.69323187, 5.35255805,\n",
              "       5.74954435, 5.70102962, 5.78260707, 5.41133778, 5.7708778 ,\n",
              "       5.82747678, 5.76806927, 5.60906573, 5.82810453, 5.2069246 ,\n",
              "       5.59508947, 5.89369052, 5.74268292, 5.21348896, 5.60090467,\n",
              "       5.63895663, 5.5560791 , 5.62444048, 5.74997388, 5.64352742,\n",
              "       5.54871087, 5.79090058, 5.48780554, 5.77131837, 5.43780306,\n",
              "       5.84121069, 5.57546309, 5.70152489, 5.4850412 , 5.78639604,\n",
              "       5.79429266, 5.60709422, 5.52159838, 5.7964403 , 5.89369052,\n",
              "       5.66608322, 5.72487401, 5.12993954, 5.39499363, 5.63270088,\n",
              "       5.52918385, 5.78401706, 5.71865136, 5.70503841, 5.73109666,\n",
              "       5.49401668, 5.72994004, 5.83220162, 5.72896006, 5.69102902,\n",
              "       5.66146878, 5.75435747, 5.79655069, 5.63560774, 5.28431762,\n",
              "       5.4681787 , 5.77737593, 5.47614203, 5.8644715 , 5.74522697,\n",
              "       5.22618767, 5.68417863, 5.8095575 , 5.78658321, 5.71165746,\n",
              "       5.29143245, 5.12173431, 5.81885308, 5.11922288, 5.59851467,\n",
              "       5.72855213, 5.59888899, 5.67533463, 5.49640715, 5.60711628,\n",
              "       5.71645956, 5.66780133, 5.53711357, 5.33599358, 5.64754722,\n",
              "       5.61288734, 5.7283544 , 5.52264107, 5.82960236, 5.72749535,\n",
              "       5.39671174, 5.69057741, 5.71800103, 5.80670483, 5.7939404 ,\n",
              "       5.38914484, 5.70824329, 5.69592996, 5.87800719, 5.73448874,\n",
              "       5.82114374, 5.61948433, 5.7593357 , 5.58061745, 5.68420071,\n",
              "       5.8223114 , 5.70962021, 5.04011224, 5.74205518, 5.72740704,\n",
              "       5.24427206, 5.60517789, 5.34912183, 5.65316421, 5.90378999,\n",
              "       5.68825364, 5.69434432, 5.57865698, 5.75863069, 4.97660768,\n",
              "       5.42995057, 5.75685211, 5.76629597, 5.86186121, 5.50975569,\n",
              "       5.48500808, 5.75473182, 5.48733136, 5.66904577, 5.7711312 ,\n",
              "       5.78123064, 5.70356265, 5.54316009, 5.67214027, 5.55211397,\n",
              "       5.12797905, 5.48414902, 5.88050709, 5.60430779, 5.58668605,\n",
              "       5.6800705 , 5.85415176, 5.6406306 , 5.46994144, 5.82802726,\n",
              "       5.69685527, 5.72783654, 5.17554688, 5.27268722, 5.77477668,\n",
              "       5.75019416, 5.62564124, 5.69041232, 5.61122441, 5.64618137,\n",
              "       5.84122173, 5.57135498, 5.71431192, 5.74041434, 5.73882819,\n",
              "       5.68291213, 5.79783928, 5.28761436, 5.55452605, 5.60707213,\n",
              "       5.34009067, 5.52918385, 5.62358142, 5.64977215, 5.44857441,\n",
              "       5.68901335, 5.76618609, 5.70102962, 5.61120233, 5.6921746 ,\n",
              "       5.70379396, 5.83003189, 5.62857067, 5.22764137, 5.75720964,\n",
              "       5.51859963, 5.54983437, 5.85069345, 5.1986095 , 5.69540159,\n",
              "       5.42710947, 5.38036755, 5.69061053, 5.82119893, 5.70410206,\n",
              "       5.74051318, 5.78492029, 5.73773782, 5.62564124, 5.66879236,\n",
              "       5.67618266, 5.57395423, 5.62518961, 5.75368559, 5.65185354,\n",
              "       5.47159331, 5.44364081, 5.6651469 , 5.738773  , 5.6988599 ,\n",
              "       5.68605077, 5.64087298, 5.79628625, 5.70724123, 5.728101  ,\n",
              "       5.70719709, 5.62945179, 5.73966516, 5.79672682, 5.29544123,\n",
              "       5.62810802, 5.876267  , 5.5670928 , 5.42531406, 5.65962924,\n",
              "       5.43704333, 5.54723509, 5.73582149, 5.48951261, 5.54852368,\n",
              "       5.73409234, 5.68828676, 5.34825173, 5.56355721, 5.73170232,\n",
              "       5.8532927 , 5.76766185, 5.33880209, 5.64100492, 5.61907686,\n",
              "       5.72979703, 5.73416961, 5.62174236, 5.34009067, 5.57395423,\n",
              "       5.36787762, 5.83949257, 5.67613852, 5.48545969, 5.77294817,\n",
              "       5.73825515, 5.5950122 , 5.57692781, 5.5652974 , 5.25156302,\n",
              "       5.38591831, 5.16781537, 5.767849  , 5.53237772, 5.76890625,\n",
              "       5.67559909, 5.1297082 , 5.67427691, 5.80723373, 5.27680639,\n",
              "       5.73661432, 5.70076518, 5.68420071, 5.70673444, 5.55673994,\n",
              "       5.10605098, 5.48733136, 5.6476024 , 5.7711312 , 5.51320293,\n",
              "       5.79967833, 5.01491304, 5.84856787, 5.68446515, 5.38744927,\n",
              "       5.7225392 , 5.70612878, 5.59030945, 5.72274843, 5.72889383,\n",
              "       5.79086697, 5.84637607, 5.62114726, 5.80659446, 5.48500808,\n",
              "       5.39416768, 5.69102902, 5.50671586, 5.59440605, 5.73542507,\n",
              "       5.69563291, 5.86401989, 5.16901567, 5.34996984, 5.80877571,\n",
              "       5.30262229, 5.86464763, 5.61520007, 5.63316351, 5.68568751,\n",
              "       5.67697549, 5.62154415, 5.56253306, 5.68467392, 5.87436171,\n",
              "       5.80766326, 5.3851255 , 5.65467309, 5.58207113, 5.82960236,\n",
              "       5.5528521 , 5.70872803, 5.66991585, 5.69713075, 5.65954093,\n",
              "       5.78028325, 5.89908724, 5.63941929, 5.49622   , 4.35351071,\n",
              "       5.60517789, 5.61673103, 5.56042959, 5.68421176, 5.71899258,\n",
              "       5.64828535, 5.29352491, 5.11441023, 5.45718403, 5.70078727,\n",
              "       5.76890625, 5.69376024, 5.64911128, 5.59503428, 5.78768463,\n",
              "       5.66676615, 5.08058734, 5.61916519, 5.58043028, 5.71655838,\n",
              "       5.78635188, 5.28926273, 5.43590928, 5.69349631, 5.73998383,\n",
              "       5.64091712, 5.83351228, 5.8717735 , 5.75881786, 5.74914793,\n",
              "       5.66105733, 5.56331485, 5.28345856, 5.6988815 , 5.7716543 ,\n",
              "       5.6129646 , 5.56415185, 5.48266222, 5.72168014, 5.57028667,\n",
              "       5.71212011, 5.26364502, 5.82448113, 5.60320638, 5.76548108,\n",
              "       5.68373806, 5.06596126, 5.82419461, 5.83652953, 5.70913545,\n",
              "       5.72706582, 5.83715776, 5.63641259, 5.77690221, 5.38272444,\n",
              "       5.63717229, 5.34737059, 5.80552664, 5.71106282, 5.73513854,\n",
              "       5.70684483, 4.42220275, 5.59116851, 5.56355721, 5.81563715,\n",
              "       5.63058634, 5.5050419 , 5.30223692, 5.04894518, 5.7283544 ,\n",
              "       5.68467392, 5.6596734 , 5.68216296, 5.69007062, 5.63232654,\n",
              "       5.75774953, 5.6152327 , 5.23685967, 5.56813903, 5.73711008,\n",
              "       5.72908099, 5.47935044, 5.38036755, 5.69945452, 5.75220983,\n",
              "       5.58245651, 5.89067278, 5.60090467, 5.55452605, 5.34139028,\n",
              "       5.57719225, 5.68116089, 5.52288391, 5.18999685, 5.87072727,\n",
              "       5.75307993, 5.8177627 , 5.83972387, 5.79931503, 5.78490924])"
            ]
          },
          "metadata": {},
          "execution_count": 19
        }
      ]
    },
    {
      "cell_type": "code",
      "source": [],
      "metadata": {
        "id": "R9vml1Qs4JEb"
      },
      "execution_count": null,
      "outputs": []
    }
  ]
}